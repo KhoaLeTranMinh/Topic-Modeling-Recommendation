{
 "cells": [
  {
   "cell_type": "code",
   "execution_count": 1,
   "metadata": {},
   "outputs": [
    {
     "name": "stdout",
     "output_type": "stream",
     "text": [
      "          Artist                   Title            Album        Date  \\\n",
      "0  Ariana Grande          ​thank u, next    thank u, next  2018-11-03   \n",
      "1  Ariana Grande                 7 rings    thank u, next  2019-01-18   \n",
      "2  Ariana Grande         ​God is a woman        Sweetener  2018-07-13   \n",
      "3  Ariana Grande            Side To Side  Dangerous Woman  2016-05-20   \n",
      "4  Ariana Grande  ​​no tears left to cry        Sweetener  2018-04-20   \n",
      "\n",
      "                                               Lyric    Year        artist  \\\n",
      "0  thought i'd end up with sean but he wasn't a m...  2018.0  ArianaGrande   \n",
      "1  yeah breakfast at tiffany's and bottles of bub...  2019.0  ArianaGrande   \n",
      "2  you you love it how i move you you love it how...  2018.0  ArianaGrande   \n",
      "3  ariana grande  nicki minaj i've been here all ...  2016.0  ArianaGrande   \n",
      "4  right now i'm in a state of mind i wanna be in...  2018.0  ArianaGrande   \n",
      "\n",
      "   Unnamed: 0  \n",
      "0         NaN  \n",
      "1         NaN  \n",
      "2         NaN  \n",
      "3         NaN  \n",
      "4         NaN  \n"
     ]
    }
   ],
   "source": [
    "import os\n",
    "import pandas as pd\n",
    "\n",
    "# Define the folder containing the CSV files\n",
    "folder_path = \"./Artist_Dataset/csv\"\n",
    "\n",
    "# List to hold DataFrames\n",
    "all_dfs = []\n",
    "\n",
    "# Iterate over all files in the folder\n",
    "for file_name in os.listdir(folder_path):\n",
    "    if file_name.endswith('.csv'):  # Ensure it's a CSV file\n",
    "        file_path = os.path.join(folder_path, file_name)\n",
    "        # Read the CSV file into a DataFrame\n",
    "        df = pd.read_csv(file_path)\n",
    "        # Add a column for the artist name (assuming the file name corresponds to the artist)\n",
    "        artist_name = os.path.splitext(file_name)[0]\n",
    "        df['artist'] = artist_name\n",
    "        # Append to the list of DataFrames\n",
    "        all_dfs.append(df)\n",
    "\n",
    "# Concatenate all DataFrames into a single DataFrame\n",
    "final_df = pd.concat(all_dfs, ignore_index=True)\n",
    "\n",
    "# Save the concatenated DataFrame to a new CSV file (optional)\n",
    "final_df.to_csv('all_artists_lyrics.csv', index=False)\n",
    "\n",
    "# Display the first few rows of the concatenated DataFrame\n",
    "print(final_df.head())\n"
   ]
  }
 ],
 "metadata": {
  "kernelspec": {
   "display_name": ".venv39",
   "language": "python",
   "name": "python3"
  },
  "language_info": {
   "codemirror_mode": {
    "name": "ipython",
    "version": 3
   },
   "file_extension": ".py",
   "mimetype": "text/x-python",
   "name": "python",
   "nbconvert_exporter": "python",
   "pygments_lexer": "ipython3",
   "version": "3.9.20"
  }
 },
 "nbformat": 4,
 "nbformat_minor": 2
}
